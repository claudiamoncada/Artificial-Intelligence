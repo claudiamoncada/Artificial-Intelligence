{
  "nbformat": 4,
  "nbformat_minor": 0,
  "metadata": {
    "colab": {
      "name": "IA DatabioncSwarm.ipynb",
      "provenance": []
    },
    "kernelspec": {
      "name": "python3",
      "display_name": "Python 3"
    },
    "language_info": {
      "name": "python"
    }
  },
  "cells": [
    {
      "cell_type": "code",
      "source": [
        "#06GeneratingStructuredDataset.R\n",
        "requireNamespace('readxl')\n",
        "#devtools::install_github('Mthrun/TSAT') ##https://github.com/Mthrun/TSAT\n",
        "library('TSAT') \n",
        "\n",
        "##load Data ----\n",
        "path=ReDi(\"Corona2020/90RawData\",'F')\n",
        "setwd(path)\n",
        "DF=readxl:read_excel('Covid19data_1April2020.xlsx')\n",
        "DFselected=DF[,c(1,12,13)]\n",
        "\n",
        "path=ReDi(\"Corona2020/90RawData\",'F')\n",
        "setwd(path)\n",
        "DF2=readxl:read_excel('Covid19data_16April2020.xlsx')\n",
        "\n",
        "#Prepare to Transformation to Numeric\n",
        "DF2$`Total Cases`=gsub(',','',DF2$`Total Cases`)\n",
        "DF2$`Total Deaths`=gsub(',','',DF2$`Total Deaths`)\n",
        "DF2$`Total Recovered`=gsub(',','',DF2$`Total Recovered`)\n",
        "DF2$`Active Cases`=gsub(',','',DF2$`Active Cases`)\n",
        "DF2$`Serious Critical`=gsub(',','',DF2$`Serious Critical`)\n",
        "DF2$`Total Tests`=gsub(',','',DF2$`Total Tests`)\n",
        "\n",
        "DF2$`Tot Cases/1M pop`=gsub(',','',DF2$`Tot Cases/1M pop`)\n",
        "\n",
        "DF2$`Deaths/1M pop`=gsub(',','',DF2$`Deaths/1M pop`)\n",
        "DF2$`Tests/1M pop`=gsub(',','',DF2$`Tests/1M pop`)\n",
        "##Combine Data ----\n",
        "DF=merge(DFselected,DF2,'Country','Country',all = T)\n",
        "\n",
        "Time=as.Date(strptime(paste(2020,DF$FirstCaseMonth,DF$FirstCaseDay),format = '%Y %m %d'))\n",
        "\n",
        "#Manual Imput of Missing \n",
        "ind=which(is.na(Time))\n",
        "DF$Time=Time\n",
        "DF$Country[ind[1]]\n",
        "DF$Time[ind[1]]=as.Date('2020-04-04')#https://www.france24.com/en/20200404-falkland-islands-confirm-first-coronavirus-case\n",
        "\n",
        "DF$Country[ind[2]]\n",
        "DF$Time[ind[2]]=as.Date('2020-04-02')#https://de.wikipedia.org/wiki/COVID-19-Pandemie_in_Afrika\n",
        "\n",
        "DF$Country[ind[3]]\n",
        "DF$Time[ind[3]]=as.Date('2020-04-05')#https://en.wikipedia.org/wiki/2020_coronavirus_pandemic_in_Saint_Pierre_and_Miquelon\n",
        "\n",
        "DF$Country[ind[4]]\n",
        "DF$Time[ind[4]]=as.Date('2020-04-06')#https://de.wikipedia.org/wiki/COVID-19-Pandemie_in_Afrika\n",
        "\n",
        "DF$Country[ind[5]]\n",
        "DF$Time[ind[5]]=as.Date('2020-04-05')#https://www.afro.who.int/news/south-sudan-confirms-first-case-covid-19\n",
        "\n",
        "DF$Country[ind[6]]\n",
        "DF$Time[ind[6]]=as.Date('2020-04-08')#https://minurso.unmissions.org/regular-updates-minurso-covid-19\n",
        "\n",
        "DF$Country[ind[7]]\n",
        "DF$Time[ind[7]]=as.Date('2020-04-10')#https://www.freitag.de/autoren/dklose/first-case-of-covid-19-reported-in-yemen\n",
        "\n",
        "which(is.na(DF$Time))\n",
        "\n",
        "\n",
        "#Write Out Structured Dataset\n",
        "DFrel=DF[,c(15,1,4:14)]\n",
        "WriteDates('Covid19data_16April2020',DFrel,OutDirectory =\"F:/Subversion/PRO/Research/Corona2020/09Originale\" ,Comments = '05ClusterAnalysis_DBS.R')\n",
        "\n"
      ],
      "metadata": {
        "colab": {
          "base_uri": "https://localhost:8080/",
          "height": 131
        },
        "id": "9VwkX0Wgs9Nj",
        "outputId": "cc8ae652-762d-4abd-f1b6-87fcad1c3cbd"
      },
      "execution_count": null,
      "outputs": [
        {
          "output_type": "error",
          "ename": "SyntaxError",
          "evalue": "ignored",
          "traceback": [
            "\u001b[0;36m  File \u001b[0;32m\"<ipython-input-13-19153769404d>\"\u001b[0;36m, line \u001b[0;32m9\u001b[0m\n\u001b[0;31m    DF=readxl:read_excel('Covid19data_1April2020.xlsx')\u001b[0m\n\u001b[0m             ^\u001b[0m\n\u001b[0;31mSyntaxError\u001b[0m\u001b[0;31m:\u001b[0m invalid syntax\n"
          ]
        }
      ]
    },
    {
      "cell_type": "code",
      "source": [
        ""
      ],
      "metadata": {
        "id": "WthUHFISzOVv"
      },
      "execution_count": null,
      "outputs": []
    }
  ]
}